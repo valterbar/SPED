{
  "nbformat": 4,
  "nbformat_minor": 0,
  "metadata": {
    "colab": {
      "provenance": [],
      "authorship_tag": "ABX9TyMJAkBzD5Hv2O86KcqHK6ZY",
      "include_colab_link": true
    },
    "kernelspec": {
      "name": "python3",
      "display_name": "Python 3"
    },
    "language_info": {
      "name": "python"
    }
  },
  "cells": [
    {
      "cell_type": "markdown",
      "metadata": {
        "id": "view-in-github",
        "colab_type": "text"
      },
      "source": [
        "<a href=\"https://colab.research.google.com/github/valterbar/SPED/blob/main/MODELO_JUNTAR_XML_BX_EXCEL.ipynb\" target=\"_parent\"><img src=\"https://colab.research.google.com/assets/colab-badge.svg\" alt=\"Open In Colab\"/></a>"
      ]
    },
    {
      "cell_type": "code",
      "execution_count": null,
      "metadata": {
        "id": "Xk9b5UUsY2iM"
      },
      "outputs": [],
      "source": [
        "'''este arquivo JUNTA os XML , DEPOIS POSSO ABRIR NO EXCEL, SALVA - LO E USAR PANDAS PARA EM OUTRO ALGORITMO PARA REALIZAR\n",
        "AS DEVIDAS ANALISES ......................'''\n",
        "\n",
        "\n",
        "import os\n",
        "import xml.etree.ElementTree as ET\n",
        "import pandas as pd\n",
        "\n",
        "# Diretório onde estão os arquivos XML  <-----------------------------------------------------------\n",
        "diretorio = r'C:\\Users\\Valter\\1_VILCONT_JUPYTER_NOT_COLAB/JUNTA_XML_CS_apuracaoSEMANAL/DIRETORIO_ONDE ESTAOXML'\n",
        "##1_VILCONT_JUPYTER_NOT_COLAB/JUNTA_XML_CS/xml 9 a 16mai24 barr2024_05\n",
        "\n",
        "###1_VILCONT_JUPYTER_NOT_COLAB/JUNTA_XML_CS_apuracaoSEMANAL\n",
        "\n"
      ]
    },
    {
      "cell_type": "code",
      "source": [
        "# Lista para armazenar os elementos XML combinados\n",
        "elementos_combinados = []\n",
        "\n",
        "# Percorra todos os arquivos no diretório\n",
        "for arquivo in os.listdir(diretorio):\n",
        "    if arquivo.endswith('.xml'):  # Verifica se é um arquivo XML\n",
        "        caminho_arquivo = os.path.join(diretorio, arquivo)\n",
        "\n",
        "        # Analisa o arquivo XML e adiciona seus elementos à lista\n",
        "        tree = ET.parse(caminho_arquivo)\n",
        "        root = tree.getroot()\n",
        "        for elemento in root:\n",
        "            elementos_combinados.append(elemento)\n"
      ],
      "metadata": {
        "id": "WwQGcKPTY8J5"
      },
      "execution_count": null,
      "outputs": []
    },
    {
      "cell_type": "code",
      "source": [
        "# Crie um novo elemento raiz\n",
        "root_combinado = ET.Element('root')\n",
        "\n",
        "# Adicione os elementos combinados ao novo elemento raiz\n",
        "for elemento in elementos_combinados:\n",
        "    root_combinado.append(elemento)\n",
        "\n",
        "# Crie uma nova árvore XML\n",
        "tree_combinada = ET.ElementTree(root_combinado)\n",
        "\n",
        "# Salve a árvore XML combinada em um novo arquivo\n",
        "caminho_arquivo_saida_xml = r'C:\\Users\\Valter\\1_VILCONT_JUPYTER_NOT_COLAB/JUNTA_XML_CS/NOME ARQ JUNTADOS_xml9a16_2semana_mai24.xml'\n",
        "tree_combinada.write(caminho_arquivo_saida_xml)\n"
      ],
      "metadata": {
        "id": "hay_UgQqZAmU"
      },
      "execution_count": null,
      "outputs": []
    }
  ]
}