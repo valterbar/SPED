{
  "nbformat": 4,
  "nbformat_minor": 0,
  "metadata": {
    "colab": {
      "provenance": [],
      "authorship_tag": "ABX9TyNvqyjHisHrjBciaL2ZxaTm",
      "include_colab_link": true
    },
    "kernelspec": {
      "name": "python3",
      "display_name": "Python 3"
    },
    "language_info": {
      "name": "python"
    }
  },
  "cells": [
    {
      "cell_type": "markdown",
      "metadata": {
        "id": "view-in-github",
        "colab_type": "text"
      },
      "source": [
        "<a href=\"https://colab.research.google.com/github/valterbar/SPED/blob/main/SPED_2PASSO_MUITO_BOM.ipynb\" target=\"_parent\"><img src=\"https://colab.research.google.com/assets/colab-badge.svg\" alt=\"Open In Colab\"/></a>"
      ]
    },
    {
      "cell_type": "markdown",
      "source": [
        "apos atualizar arq txt para excel faca importacao e agrupe para informacoes desejadas para conciliacao"
      ],
      "metadata": {
        "id": "UKejIXUtnIIL"
      }
    },
    {
      "cell_type": "code",
      "execution_count": null,
      "metadata": {
        "id": "IcNOZqtpml37"
      },
      "outputs": [],
      "source": [
        "import pandas as pd\n",
        "\n",
        "caminho_do_arquivo = r\"/content/nome_arq.xlsx\"\n",
        "dados = pd.read_excel (caminho_do_arquivo)\n",
        "# dados.head()\n",
        "# sped_df= dados = dados[[int(i) for i in [1,3,5,8,10,12 ]]] ##1,3,5,8,12\n",
        "sped_df1 = dados[dados[1].isin(['450','C110','C170', 'C190','C197', 'C590','D190'])]##'C100'\n",
        "\n",
        "'''observacao 1 soja, 2 milho quantidades'''\n",
        "\n",
        "resumo=sped_df1.groupby([3,1,10])[5].sum()\n",
        "\n",
        "resumo\n"
      ]
    },
    {
      "cell_type": "code",
      "source": [
        "# FORMATAR VALORES . PARA VIRGULA\n",
        "def formatar_valor(valor):\n",
        "    return \"{:,.2f}\".format(valor).replace('.', ',')\n",
        "\n",
        "# Aplicar a função de formatação aos valores\n",
        "resumo_formatado = resumo.map(formatar_valor)\n",
        "\n",
        "'''ABAIXO HABILITAR PARA ENVIAR EXCEL'''\n",
        "resumo.to_excel(r\"C:\\content\\zzz15abr24.xlsx\")"
      ],
      "metadata": {
        "id": "5GuEFM5vmorS"
      },
      "execution_count": 4,
      "outputs": []
    },
    {
      "cell_type": "code",
      "source": [],
      "metadata": {
        "id": "tMaENTXKocUm"
      },
      "execution_count": null,
      "outputs": []
    }
  ]
}