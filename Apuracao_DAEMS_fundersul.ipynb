{
  "nbformat": 4,
  "nbformat_minor": 0,
  "metadata": {
    "colab": {
      "provenance": [],
      "authorship_tag": "ABX9TyOER1jcR96EOc7g8njfpRDI",
      "include_colab_link": true
    },
    "kernelspec": {
      "name": "python3",
      "display_name": "Python 3"
    },
    "language_info": {
      "name": "python"
    }
  },
  "cells": [
    {
      "cell_type": "markdown",
      "metadata": {
        "id": "view-in-github",
        "colab_type": "text"
      },
      "source": [
        "<a href=\"https://colab.research.google.com/github/valterbar/SPED/blob/main/Apuracao_DAEMS_fundersul.ipynb\" target=\"_parent\"><img src=\"https://colab.research.google.com/assets/colab-badge.svg\" alt=\"Open In Colab\"/></a>"
      ]
    },
    {
      "cell_type": "code",
      "execution_count": null,
      "metadata": {
        "id": "NsnJ8i5JRNul"
      },
      "outputs": [],
      "source": [
        "def calcular_valores_totais(produto, quantidade):\n",
        "    valores = {\n",
        "        \"Soja\": {\"Fundersul\": 0.492, \"Fundems\": 0.028},\n",
        "        \"Milho\": {\"Fundersul\": 0.246, \"Fundems\": 0.014},\n",
        "        \"Lenha\": {\"Fundersul\": 0.054, \"Fundems\": 0.0},\n",
        "        \"Algodão\": {\"Fundersul\": 1.026, \"Fundems\": 0.0}\n",
        "    }\n",
        "\n",
        "    valor_uferms = 48.42  # Valor padrão da UFERMS\n",
        "\n",
        "    if quantidade > 0:\n",
        "        fundersul = valores[produto][\"Fundersul\"] * valor_uferms * quantidade\n",
        "        fundems = valores[produto][\"Fundems\"] * valor_uferms * quantidade\n",
        "        total = fundersul + fundems\n",
        "        return (quantidade, fundersul / 1000, fundems / 1000, total / 1000)\n",
        "    else:\n",
        "        return (quantidade, 0, 0, 0)\n",
        "\n",
        "def main():\n",
        "    produtos = [\"Soja\", \"Milho\", \"Lenha\", \"Algodão\"]\n",
        "    resultados = {}\n",
        "\n",
        "    for produto in produtos:\n",
        "        quantidade = int(input(f\"Digite a quantidade de {produto} em Kgs: \"))\n",
        "        resultados[produto] = calcular_valores_totais(produto, quantidade)\n",
        "\n",
        "    print(\"\\nResumo:\")\n",
        "    print(\"{:<10} {:<10} {:<15} {:<10} {:<10}\".format(\"Produto\", \"Qt. Kgs\", \"Fundersul\", \"Fundems\", \"Total\"))\n",
        "    for produto, resultado in resultados.items():\n",
        "        print(\"{:<10} {:<10} {:<15.2f} {:<10.2f} {:<10.2f}\".format(produto, *resultado))\n",
        "\n",
        "if __name__ == \"__main__\":\n",
        "    main()\n"
      ]
    }
  ]
}