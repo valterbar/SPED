{
  "nbformat": 4,
  "nbformat_minor": 0,
  "metadata": {
    "colab": {
      "provenance": [],
      "authorship_tag": "ABX9TyMQcB3LGN3fK5zGKxaOfOPA",
      "include_colab_link": true
    },
    "kernelspec": {
      "name": "python3",
      "display_name": "Python 3"
    },
    "language_info": {
      "name": "python"
    }
  },
  "cells": [
    {
      "cell_type": "markdown",
      "metadata": {
        "id": "view-in-github",
        "colab_type": "text"
      },
      "source": [
        "<a href=\"https://colab.research.google.com/github/valterbar/SPED/blob/main/AA_Selecao_Nfs_noDireto_xml.ipynb\" target=\"_parent\"><img src=\"https://colab.research.google.com/assets/colab-badge.svg\" alt=\"Open In Colab\"/></a>"
      ]
    },
    {
      "cell_type": "markdown",
      "source": [
        " BUSCAR NO ARQUIVO EXCEL E CONCATENAR\n",
        "ex.:\n",
        "![image.png](data:image/png;base64,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)"
      ],
      "metadata": {
        "id": "dMqRG_iB8IPk"
      }
    },
    {
      "cell_type": "code",
      "source": [
        "import os\n",
        "import shutil\n",
        "\n",
        "diretorio_origem = r'2024_04' ##verificar pasta/caminho\n",
        "diretorio_destino = r'ModeloBuScaR_NF_TESTE'    ###do CS PERIODICO P/DOM..\n",
        "\n"
      ],
      "metadata": {
        "id": "P4PvhlHI98hn"
      },
      "execution_count": null,
      "outputs": []
    },
    {
      "cell_type": "code",
      "execution_count": null,
      "metadata": {
        "id": "vnM-pyee8FtO"
      },
      "outputs": [],
      "source": [
        "\n",
        "\n",
        "\n",
        "# Primeiro :Verifica se o diretório de destino existe, caso contrário, cria-o\n",
        "if not os.path.exists(diretorio_destino):\n",
        "    os.makedirs(diretorio_destino)\n",
        "\n",
        "# Lista de substrings(no caso nfs ) que você deseja procurar nos nomes dos arquivos XML\n",
        "substrings = [\"33236\" ,\n",
        "\"33238\" ,\n",
        "\"33324\" ,\n",
        "\"33326\" ,\n",
        "\"33082\" ,\n",
        "\"33293\" ,\n",
        "\"33294\" ,\n",
        "\"33295\" ,\n",
        "\"33171\" ,\n",
        "\"33144\" ,\n",
        "\"33145\" ,\n",
        "\"33207\" ,\n",
        "\"33208\" ,\n",
        "\"33213\" ,\n",
        "\"33214\" ,\n",
        "\"33215\" ,\n",
        "\"33216\" ,\n",
        "\"33337\" ,\n",
        "\"33187\" ,\n",
        "\"33190\" ,\n",
        "\"33063\" ,\n",
        "\"33349\" ,\n",
        "\"33243\"\n",
        "]\n",
        "\n",
        "# Lista para armazenar os nomes dos arquivos XML que contêm as substrings\n",
        "arquivos_selecionados = []\n",
        "\n",
        "# Percorre todos os arquivos no diretório de origem\n",
        "for arquivo in os.listdir(diretorio_origem):\n",
        "    # Verifica se o arquivo é um XML e se contém alguma das substrings no nome\n",
        "    if arquivo.endswith('.xml') and any(substring in arquivo for substring in substrings):\n",
        "        # Adiciona o nome do arquivo à lista de arquivos selecionados\n",
        "        arquivos_selecionados.append(arquivo)\n",
        "\n",
        "# Percorre os arquivos selecionados e os copia para o diretório de destino\n",
        "for arquivo in arquivos_selecionados:\n",
        "    # Caminho completo para o arquivo de origem\n",
        "    caminho_origem = os.path.join(diretorio_origem, arquivo)\n",
        "\n",
        "    # Caminho completo para o arquivo de destino\n",
        "    caminho_destino = os.path.join(diretorio_destino, arquivo)\n",
        "\n",
        "    # Copia o arquivo para o diretório de destino\n",
        "    shutil.copyfile(caminho_origem, caminho_destino)\n",
        "\n",
        "print(\"Arquivos copiados com sucesso!\"/n'acesse Novo Diretorio')\n"
      ]
    }
  ]
}